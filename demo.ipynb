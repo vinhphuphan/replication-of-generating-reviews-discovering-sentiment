{
  "nbformat": 4,
  "nbformat_minor": 0,
  "metadata": {
    "colab": {
      "provenance": [],
      "gpuType": "V100",
      "machine_shape": "hm"
    },
    "kernelspec": {
      "name": "python3",
      "display_name": "Python 3"
    },
    "language_info": {
      "name": "python"
    },
    "accelerator": "GPU"
  },
  "cells": [
    {
      "cell_type": "markdown",
      "metadata": {
        "id": "Z5FsBCMwQ2qq"
      },
      "source": [
        "### Mount Drive"
      ]
    },
    {
      "cell_type": "code",
      "execution_count": null,
      "metadata": {
        "id": "2ks-sH2FQWoK",
        "colab": {
          "base_uri": "https://localhost:8080/"
        },
        "outputId": "9dae8403-7c76-4d2e-f09e-c486cc777151"
      },
      "outputs": [
        {
          "output_type": "stream",
          "name": "stdout",
          "text": [
            "Mounted at /content/drive\n"
          ]
        }
      ],
      "source": [
        "from google.colab import drive\n",
        "drive.mount('/content/drive')"
      ]
    },
    {
      "cell_type": "code",
      "source": [
        "%cd /content/drive/MyDrive/Test Again/trial/replication-of-generating-reviews-discovering-sentiment/"
      ],
      "metadata": {
        "colab": {
          "base_uri": "https://localhost:8080/"
        },
        "id": "Pi26aKwEVrId",
        "outputId": "5ffd51d8-d7e8-4ba6-f17f-43bd757678a8"
      },
      "execution_count": null,
      "outputs": [
        {
          "output_type": "stream",
          "name": "stdout",
          "text": [
            "/content/drive/MyDrive/Test Again/trial/replication-of-generating-reviews-discovering-sentiment\n"
          ]
        }
      ]
    },
    {
      "cell_type": "code",
      "source": [
        "!ls"
      ],
      "metadata": {
        "colab": {
          "base_uri": "https://localhost:8080/"
        },
        "id": "9mrGJFzL7pdg",
        "outputId": "4d381860-1176-4f50-c98f-c8de523873c0"
      },
      "execution_count": null,
      "outputs": [
        {
          "output_type": "stream",
          "name": "stdout",
          "text": [
            "data\t    encoder.py\tmodel\t\t      __pycache__  sst_binary_demo.py\n",
            "demo.ipynb  LICENSE\tpackage_versions.txt  README.md    utils.py\n"
          ]
        }
      ]
    },
    {
      "cell_type": "markdown",
      "source": [
        "### 1. Install and Import Dependencies"
      ],
      "metadata": {
        "id": "kF0NSW_nqo7l"
      }
    },
    {
      "cell_type": "code",
      "source": [
        "import os\n",
        "import html\n",
        "import numpy as np\n",
        "import pandas as pd\n",
        "import tensorflow as tf\n",
        "from sklearn.linear_model import LogisticRegression\n",
        "from matplotlib import pyplot as plt\n",
        "from sklearn.metrics import confusion_matrix, classification_report, accuracy_score, roc_curve, roc_auc_score, f1_score, auc\n",
        "from encoder import Model"
      ],
      "metadata": {
        "colab": {
          "base_uri": "https://localhost:8080/"
        },
        "id": "JZNoLOR0quMM",
        "outputId": "0b457582-feac-4c75-89a1-cbe8439ff615"
      },
      "execution_count": null,
      "outputs": [
        {
          "output_type": "stream",
          "name": "stderr",
          "text": [
            "WARNING:tensorflow:From /usr/local/lib/python3.10/dist-packages/tensorflow/python/compat/v2_compat.py:108: disable_resource_variables (from tensorflow.python.ops.variable_scope) is deprecated and will be removed in a future version.\n",
            "Instructions for updating:\n",
            "non-resource variables are not supported in the long term\n"
          ]
        }
      ]
    },
    {
      "cell_type": "markdown",
      "source": [
        "## 2. Demo The TextVectorization Model"
      ],
      "metadata": {
        "id": "ckh4sjm4nOqr"
      }
    },
    {
      "cell_type": "code",
      "source": [
        "model = Model()\n",
        "text = [\"I couldn't figure out\"]\n",
        "text_features = model.transform(text)\n",
        "print(text_features)"
      ],
      "metadata": {
        "colab": {
          "base_uri": "https://localhost:8080/"
        },
        "id": "uEM6V-mlnrmh",
        "outputId": "4ab761fb-f240-47e8-8337-445045093a25"
      },
      "execution_count": null,
      "outputs": [
        {
          "output_type": "stream",
          "name": "stderr",
          "text": [
            "WARNING:tensorflow:From /usr/local/lib/python3.10/dist-packages/tensorflow/python/util/dispatch.py:1260: calling l2_normalize (from tensorflow.python.ops.nn_impl) with dim is deprecated and will be removed in a future version.\n",
            "Instructions for updating:\n",
            "dim is deprecated, use axis instead\n"
          ]
        },
        {
          "output_type": "stream",
          "name": "stdout",
          "text": [
            "5.021 seconds to transform 1 examples\n",
            "[[-0.12958607 -0.7414904   0.06320151 ...  0.12817441  0.07800514\n",
            "   0.14032531]]\n"
          ]
        }
      ]
    },
    {
      "cell_type": "code",
      "source": [
        "print(text_features.shape)"
      ],
      "metadata": {
        "id": "s-yfJ-jyoWMg",
        "colab": {
          "base_uri": "https://localhost:8080/"
        },
        "outputId": "51933790-e1f6-421a-df03-3b0534ce3413"
      },
      "execution_count": null,
      "outputs": [
        {
          "output_type": "stream",
          "name": "stdout",
          "text": [
            "(1, 4096)\n"
          ]
        }
      ]
    },
    {
      "cell_type": "code",
      "source": [
        "print(type(text_features))"
      ],
      "metadata": {
        "colab": {
          "base_uri": "https://localhost:8080/"
        },
        "id": "vrJIviIDw_bY",
        "outputId": "4f96b0d1-1e9b-4823-96a1-cd0f5f9d87d4"
      },
      "execution_count": null,
      "outputs": [
        {
          "output_type": "stream",
          "name": "stdout",
          "text": [
            "<class 'numpy.ndarray'>\n"
          ]
        }
      ]
    },
    {
      "cell_type": "markdown",
      "source": [
        "## 3. Define Function"
      ],
      "metadata": {
        "id": "lONM7UxNoXEf"
      }
    },
    {
      "cell_type": "code",
      "source": [
        "def load_sst(path):\n",
        "    data = pd.read_csv(path)\n",
        "    X = data['sentence'].values.tolist()\n",
        "    Y = data['label'].values\n",
        "    return X, Y\n",
        "\n",
        "def sst_binary(data_dir='data/',train_dir=\"train_binary_sent.csv\", val_dir=\"dev_binary_sent.csv\", test_dir=\"test_binary_sent.csv\"):\n",
        "    \"\"\"\n",
        "    Most standard models make use of a preprocessed/tokenized/lowercased version\n",
        "    of Stanford Sentiment Treebank. Our model extracts features from a version\n",
        "    of the dataset using the raw text instead which we've included in the data\n",
        "    folder.\n",
        "    \"\"\"\n",
        "    trX, trY = load_sst(os.path.join(data_dir, train_dir))\n",
        "    vaX, vaY = load_sst(os.path.join(data_dir, val_dir))\n",
        "    teX, teY = load_sst(os.path.join(data_dir, test_dir))\n",
        "    return trX, vaX, teX, trY, vaY, teY\n",
        "\n",
        "def preprocess(text, front_pad='\\n ', end_pad=' '):\n",
        "    text = html.unescape(text)\n",
        "    text = text.replace('\\n', ' ').strip()\n",
        "    text = front_pad+text+end_pad\n",
        "    text = text.encode()\n",
        "    return text\n",
        "\n",
        "def train_with_reg_cv(trX, trY, vaX, vaY, teX=None, teY=None, penalty='l1',C=2**np.arange(-8, 1).astype(np.float64), seed=42):\n",
        "    scores = []\n",
        "    for i, c in enumerate(C):\n",
        "        model = LogisticRegression(C=c, penalty=penalty, random_state=seed+i, solver='liblinear')\n",
        "        model.fit(trX, trY)\n",
        "        score = model.score(vaX, vaY)\n",
        "        scores.append(score)\n",
        "    c = C[np.argmax(scores)]\n",
        "    model = LogisticRegression(C=c, penalty=penalty, random_state=seed+len(C), solver='liblinear')\n",
        "    model.fit(trX, trY)\n",
        "    nnotzero = np.sum(model.coef_ != 0)\n",
        "    if teX is not None and teY is not None:\n",
        "        score = model.score(teX, teY)*100.\n",
        "    else:\n",
        "        score = model.score(vaX, vaY)*100.\n",
        "    return score, c, nnotzero, model"
      ],
      "metadata": {
        "id": "5cFOsCl2sk2_"
      },
      "execution_count": null,
      "outputs": []
    },
    {
      "cell_type": "markdown",
      "source": [
        "## 4. Load the data\n",
        "\n",
        "Let's take a moment to understand the format of the data. Each example is a sentence representing the movie review and a corresponding label. The sentence is not preprocessed in any way. The label is an integer value of either 0 or 1, where 0 is a negative review, and 1 is a positive review."
      ],
      "metadata": {
        "id": "H6C6syVTvCPH"
      }
    },
    {
      "cell_type": "markdown",
      "source": [
        "### SST"
      ],
      "metadata": {
        "id": "3nuxtzu25QIq"
      }
    },
    {
      "cell_type": "code",
      "source": [
        "SST_train_dir = 'SST/SST_train.csv'\n",
        "SST_val_dir = 'SST/SST_val.csv'\n",
        "SST_test_dir = 'SST/SST_test.csv'\n",
        "SST_trX, SST_vaX, SST_teX, SST_trY, SST_vaY, SST_teY = sst_binary('data/',SST_train_dir, SST_val_dir, SST_test_dir)"
      ],
      "metadata": {
        "id": "k2sGDMnlvO0P"
      },
      "execution_count": null,
      "outputs": []
    },
    {
      "cell_type": "code",
      "source": [
        "# Display the length of train , test dataset\n",
        "print(\"Training entries: {}, test entries: {}\".format(len(SST_trX), len(SST_teX)))"
      ],
      "metadata": {
        "colab": {
          "base_uri": "https://localhost:8080/"
        },
        "id": "vzzGMI0EvGr0",
        "outputId": "d3c0df82-0e09-4885-ec71-85d5bba2e388"
      },
      "execution_count": null,
      "outputs": [
        {
          "output_type": "stream",
          "name": "stdout",
          "text": [
            "Training entries: 6920, test entries: 1821\n"
          ]
        }
      ]
    },
    {
      "cell_type": "markdown",
      "source": [
        "Let's print first 10 examples."
      ],
      "metadata": {
        "id": "-qkjQU6YvV3M"
      }
    },
    {
      "cell_type": "code",
      "source": [
        "SST_trX[:10]"
      ],
      "metadata": {
        "colab": {
          "base_uri": "https://localhost:8080/"
        },
        "id": "_KwHHAqEvWB9",
        "outputId": "1bdfd710-eeeb-4fbb-92ac-d760f43fac1b"
      },
      "execution_count": null,
      "outputs": [
        {
          "output_type": "execute_result",
          "data": {
            "text/plain": [
              "['A stirring, funny and finally transporting re-imagining of Beauty and the Beast and 1930s horror films',\n",
              " 'Apparently reassembled from the cutting-room floor of any given daytime soap.',\n",
              " \"They presume their audience won't sit still for a sociology lesson, however entertainingly presented, so they trot out the conventional science-fiction elements of bug-eyed monsters and futuristic women in skimpy clothes.\",\n",
              " 'This is a visually stunning rumination on love, memory, history and the war between art and commerce.',\n",
              " \"Jonathan Parker's Bartleby should have been the be-all-end-all of the modern-office anomie films.\",\n",
              " 'Campanella gets the tone just right -- funny in the middle of sad in the middle of hopeful.',\n",
              " 'A fan film that for the uninitiated plays better on video with the sound turned down.',\n",
              " 'Béart and Berling are both superb, while Huppert ... is magnificent.',\n",
              " 'A little less extreme than in the past, with longer exposition sequences between them, and with fewer gags to break the tedium.',\n",
              " 'The film is strictly routine.']"
            ]
          },
          "metadata": {},
          "execution_count": 11
        }
      ]
    },
    {
      "cell_type": "markdown",
      "source": [
        "Let's also print the first 10 labels."
      ],
      "metadata": {
        "id": "nBBDnYyQwM4U"
      }
    },
    {
      "cell_type": "code",
      "source": [
        "SST_trY[:10]"
      ],
      "metadata": {
        "colab": {
          "base_uri": "https://localhost:8080/"
        },
        "id": "dAAXo3JfwM_L",
        "outputId": "22bf50dc-0fdd-4793-b33e-b542704e18c6"
      },
      "execution_count": null,
      "outputs": [
        {
          "output_type": "execute_result",
          "data": {
            "text/plain": [
              "array([1, 0, 0, 1, 1, 1, 0, 1, 0, 0])"
            ]
          },
          "metadata": {},
          "execution_count": 12
        }
      ]
    },
    {
      "cell_type": "markdown",
      "source": [
        "### Amazon"
      ],
      "metadata": {
        "id": "fI9VoF60F0n1"
      }
    },
    {
      "cell_type": "code",
      "source": [
        "Amazon_train_dir = 'Amazon/amazon_train.csv'\n",
        "Amazon_val_dir = 'Amazon/amazon_val.csv'\n",
        "Amazon_test_dir = 'Amazon/amazon_test.csv'\n",
        "Amazon_trX, Amazon_vaX, Amazon_teX, Amazon_trY, Amazon_vaY, Amazon_teY = sst_binary('data/',Amazon_train_dir, Amazon_val_dir, Amazon_test_dir)"
      ],
      "metadata": {
        "id": "IH2m0yb0F0n2"
      },
      "execution_count": null,
      "outputs": []
    },
    {
      "cell_type": "code",
      "source": [
        "# Display the length of train , test dataset\n",
        "print(\"Training entries: {}, test entries: {}\".format(len(Amazon_trX), len(Amazon_teX)))"
      ],
      "metadata": {
        "colab": {
          "base_uri": "https://localhost:8080/"
        },
        "outputId": "c1adaab8-6a3e-41d2-bf2a-dfb7d84e6662",
        "id": "lI5F-k4tF0n3"
      },
      "execution_count": null,
      "outputs": [
        {
          "output_type": "stream",
          "name": "stdout",
          "text": [
            "Training entries: 24238, test entries: 6926\n"
          ]
        }
      ]
    },
    {
      "cell_type": "markdown",
      "source": [
        "Let's print first 5 examples."
      ],
      "metadata": {
        "id": "fOg8I0HeF0n4"
      }
    },
    {
      "cell_type": "code",
      "source": [
        "Amazon_trX[:5]"
      ],
      "metadata": {
        "colab": {
          "base_uri": "https://localhost:8080/"
        },
        "outputId": "2827d1e3-3fb7-4490-b2a3-92c2ec080436",
        "id": "D6P8TswnF0n4"
      },
      "execution_count": null,
      "outputs": [
        {
          "output_type": "execute_result",
          "data": {
            "text/plain": [
              "[\"Purchased this as an upgrade to the first generation Kindle Paperwhite. The backlight is greatly improved, the display is of a higher quality, the words are clearer and the internal process is a lot quicker  opening books and page flipping is noticeably speedier.The one thing that does annoy me about the 3rd generation Paperwhite is the way it's manufactured  when you hold it at a certain angle and you look at the bottom of the screen, you can see a small section of the display covered in the e-ink used to render the words and images on the rest of the screen. At first I thought this was a manufacturing defect, so I took it back to Best Buy and exchanged it for the same model, only to find that the second model had the same issue, except more-visible.This appears to have something to do with the way the display is placed behind the bezel during the manufacturing process. When the Paperwhite first came out, it was the crown jewel of Amazon's e-reader line, and Amazon was careful to precision-craft the devices. Now, that honor falls to the more-expensive Voyage, with the Paperwhite becoming the flagship, but still cheaper, option in the Kindle lineup, meaning the manufacturing quality of the Paperwhite is likely a bit reduced compared to that of the Voyage.This won't be a huge annoyance for some people. It is for me. And it's seriously made me consider whether it's worth contacting Amazon over.For everyone else, though, this is a great e-reader and well worth the money. If you're looking for an e-reader, this is the one to buy.\",\n",
              " 'Bought this for my wife and she loves it definitely worth it',\n",
              " 'Bought this Kindle for our grandchild and he loves it.For anyone who just loves to read this size and weight is perfect!!!!',\n",
              " 'So fun and useful. We play with it and rely several task with it.',\n",
              " 'Great for streaming, TV shows! Highly recommend this product!']"
            ]
          },
          "metadata": {},
          "execution_count": 15
        }
      ]
    },
    {
      "cell_type": "markdown",
      "source": [
        "Let's also print the first 5 labels."
      ],
      "metadata": {
        "id": "pjCnkCyAF0n4"
      }
    },
    {
      "cell_type": "code",
      "source": [
        "Amazon_trY[:5]"
      ],
      "metadata": {
        "colab": {
          "base_uri": "https://localhost:8080/"
        },
        "outputId": "7785c5d5-eb90-4f89-8b13-40314f669986",
        "id": "FJ6KwUKVF0n4"
      },
      "execution_count": null,
      "outputs": [
        {
          "output_type": "execute_result",
          "data": {
            "text/plain": [
              "array([1, 1, 1, 1, 1])"
            ]
          },
          "metadata": {},
          "execution_count": 16
        }
      ]
    },
    {
      "cell_type": "markdown",
      "source": [
        "### Yelp"
      ],
      "metadata": {
        "id": "8qZEUJJVUPAz"
      }
    },
    {
      "cell_type": "code",
      "source": [
        "# Yelp data\n",
        "New_Yelp_train_dir = 'Yelp/Yelp_train.csv'\n",
        "New_Yelp_val_dir = 'Yelp/Yelp_val.csv'\n",
        "New_Yelp_test_dir = 'Yelp/Yelp_test.csv'\n",
        "New_Yelp_trX, New_Yelp_vaX, New_Yelp_teX, New_Yelp_trY, New_Yelp_vaY, New_Yelp_teY = sst_binary('data/new_data',New_Yelp_train_dir, New_Yelp_val_dir, New_Yelp_test_dir)"
      ],
      "metadata": {
        "id": "cDBYuJeYUPA4"
      },
      "execution_count": null,
      "outputs": []
    },
    {
      "cell_type": "code",
      "source": [
        "# Display the length of train , test dataset\n",
        "print(\"Training entries: {}, test entries: {}\".format(len(New_Yelp_trX), len(New_Yelp_teX)))"
      ],
      "metadata": {
        "colab": {
          "base_uri": "https://localhost:8080/"
        },
        "outputId": "62b41f4d-c449-4055-e9c3-1d6687913a9a",
        "id": "HH6yU7BoUPA5"
      },
      "execution_count": null,
      "outputs": [
        {
          "output_type": "stream",
          "name": "stdout",
          "text": [
            "Training entries: 28000, test entries: 4000\n"
          ]
        }
      ]
    },
    {
      "cell_type": "markdown",
      "source": [
        "Let's print first 5 examples."
      ],
      "metadata": {
        "id": "F0oyG02UUPA5"
      }
    },
    {
      "cell_type": "code",
      "source": [
        "New_Yelp_teX[:5]"
      ],
      "metadata": {
        "colab": {
          "base_uri": "https://localhost:8080/"
        },
        "outputId": "90ff64bc-00b9-4bd5-e972-8fee15513cb4",
        "id": "M83x169vUPA5"
      },
      "execution_count": null,
      "outputs": [
        {
          "output_type": "execute_result",
          "data": {
            "text/plain": [
              "[\"Great atmosphere for a Scottsdale Restaurant. Although, I'd choose great food over a nice setting.\\\\nI expected more from an Iron Chef restaurant.\\\\nService was really slow considering there were several open tables and it was pretty late in the evening. \\\\nThe best thing was the guacamole. The salmon I order was mediocre at best and the flavors just didn't work.\\\\nThe tortillas for the tacos were rubbery and chew. The lamb meat wasn't well seasoned and needed salt.\",\n",
              " 'Five...five...five dollar foot longs. This song is very catchy indeed. However the footlongs do not catch my taste buds for long.(no pun intended) Do not get me wrong the bread is fresh and so are the vegetables. The cold cuts? Hmmm not so sure. The grilled chicken pieces they use for the sandwiches, I do not trust. It looks like soy meat. I know it is only $5.00 but for the amount of money I spend on four subs I cold buy sandwich ingredients from the grocery store that will probably last me a week. Better quality too.',\n",
              " \"Disappointed!!\\\\nI been to don pedro restaurants before, but this was my first time at this location. The place was almost empty so we got seated right away.\\\\nFive minutes later our waitress arrived not very friendly at all.\\\\nI  order sopa de tortilla witch I usually enjoy having (even when is hot). 20 minutes later pass after a got my soup. it was served in a huge bowl, boiling hot.the taste was nasty it tasted like water with grease and dry chile.big chunks of chicken I mean DISGUSTING ...THE waitress didn't bother to ask how the foo\\\\nd was.she took my bowl exactly how it was  served!\\\\npoor service & flavorless food. never coming back!!\",\n",
              " 'By far, the freshest fish to be found anywhere  - Toyama is a gem - and Chef Owner Mo is very accomodating, and has a great sense of humor. His hand rolls and specials are some of the best in town.\\\\n\\\\nFor a true live experience, I do recommend sitting at the bar as the sushi chefs are quite talkative and very knowledgeable about their trade.\\\\n\\\\nRecommended specials: Toyama roll, orange cup tuna, seasoned squid salad.\\\\n\\\\nService: best at the bar - dining room staff is attentie, yet inconsistent and more often than not - just plain aloof! If you want to sit in fron of Mo at the bar, just make sure you arrive there plenty early.',\n",
              " 'Im not impressed with their lack of a dedicated customer service rep. The lady that tried to answer the phone several times sounded like she was on a treadmill, and guessing at pricing.']"
            ]
          },
          "metadata": {},
          "execution_count": 19
        }
      ]
    },
    {
      "cell_type": "markdown",
      "source": [
        "Let's also print the first 5 labels."
      ],
      "metadata": {
        "id": "MlLuoyX4UPA5"
      }
    },
    {
      "cell_type": "code",
      "source": [
        "New_Yelp_teY[:5]"
      ],
      "metadata": {
        "colab": {
          "base_uri": "https://localhost:8080/"
        },
        "outputId": "940ab610-177b-4076-be33-1580552c0614",
        "id": "HPqHW7psUPA5"
      },
      "execution_count": null,
      "outputs": [
        {
          "output_type": "execute_result",
          "data": {
            "text/plain": [
              "array([0, 0, 0, 1, 0])"
            ]
          },
          "metadata": {},
          "execution_count": 20
        }
      ]
    },
    {
      "cell_type": "markdown",
      "source": [
        "### IMDB"
      ],
      "metadata": {
        "id": "ZVCq2p1QUQSk"
      }
    },
    {
      "cell_type": "code",
      "source": [
        "IMDB_train_dir = 'IMDB/IMDB_train.csv'\n",
        "IMDB_val_dir = 'IMDB/IMDB_val.csv'\n",
        "IMDB_test_dir = 'IMDB/IMDB_test.csv'\n",
        "IMDB_trX, IMDB_vaX, IMDB_teX, IMDB_trY, IMDB_vaY, IMDB_teY = sst_binary('data/new_data',IMDB_train_dir, IMDB_val_dir, IMDB_test_dir)"
      ],
      "metadata": {
        "id": "hQmL-CIpUQSp"
      },
      "execution_count": null,
      "outputs": []
    },
    {
      "cell_type": "code",
      "source": [
        "# Display the length of train , test dataset\n",
        "print(\"Training entries: {}, test entries: {}\".format(len(IMDB_trX), len(IMDB_teX)))"
      ],
      "metadata": {
        "colab": {
          "base_uri": "https://localhost:8080/"
        },
        "outputId": "4cd7cad4-9cd1-452d-aab7-9811331a48cd",
        "id": "nwhk0HOZUQSq"
      },
      "execution_count": null,
      "outputs": [
        {
          "output_type": "stream",
          "name": "stdout",
          "text": [
            "Training entries: 35000, test entries: 5000\n"
          ]
        }
      ]
    },
    {
      "cell_type": "markdown",
      "source": [
        "Let's print first 5 examples."
      ],
      "metadata": {
        "id": "fEiSf0FVUQSq"
      }
    },
    {
      "cell_type": "code",
      "source": [
        "IMDB_teX[:5]"
      ],
      "metadata": {
        "colab": {
          "base_uri": "https://localhost:8080/"
        },
        "outputId": "923183ca-2d4f-4fb0-b9c2-ba5017942cd0",
        "id": "bE-VCeeFUQSq"
      },
      "execution_count": null,
      "outputs": [
        {
          "output_type": "execute_result",
          "data": {
            "text/plain": [
              "[\"I really liked this Summerslam due to the look of the arena, the curtains and just the look overall was interesting to me for some reason. Anyways, this could have been one of the best Summerslam's ever if the WWF didn't have Lex Luger in the main event against Yokozuna, now for it's time it was ok to have a huge fat man vs a strong man but I'm glad times have changed. It was a terrible main event just like every match Luger is in is terrible. Other matches on the card were Razor Ramon vs Ted Dibiase, Steiner Brothers vs Heavenly Bodies, Shawn Michaels vs Curt Hening, this was the event where Shawn named his big monster of a body guard Diesel, IRS vs 1-2-3 Kid, Bret Hart first takes on Doink then takes on Jerry Lawler and stuff with the Harts and Lawler was always very interesting, then Ludvig Borga destroyed Marty Jannetty, Undertaker took on Giant Gonzalez in another terrible match, The Smoking Gunns and Tatanka took on Bam Bam Bigelow and the Headshrinkers, and Yokozuna defended the world title against Lex Luger this match was boring and it has a terrible ending. However it deserves 8/10\",\n",
              " 'Not many television shows appeal to quite as many different kinds of fans like Farscape does...I know youngsters and 30/40+ years old;fans both Male and Female in as many different countries as you can think of that just adore this T.V miniseries. It has elements that can be found in almost every other show on T.V, character driven drama that could be from an Australian soap opera; yet in the same episode it has science fact & fiction that would give even the hardiest \"Trekkie\" a run for his money in the brainbender stakes! Wormhole theory, Time Travel in true equational form...Magnificent. It embraces cultures from all over the map as the possibilities are endless having multiple stars and therefore thousands of planets to choose from.<br /><br />With such a broad scope; it would be expected that nothing would be able to keep up the illusion for long, but here is where \"Farscape\" really comes into it\\'s own element...It succeeds where all others have failed, especially the likes of Star Trek (a universe with practically zero Kaos element!) They ran out of ideas pretty quickly + kept rehashing them! Over the course of 4 seasons they manage to keep the audience\\'s attention using good continuity and constant character evolution with multiple threads to every episode with unique personal touches to camera that are specific to certain character groups within the whole. This structure allows for an extremely large area of subject matter as loyalties are forged and broken in many ways on many many issues. I happened to see the pilot (Premiere) in passing and just had to keep tuning in after that to see if Crichton would ever \"Get the girl\", after seeing them all on television I was delighted to see them available on DVD & I have to admit that it was the only thing that kept me sane whilst I had to do a 12 hour night shift and developed chronic insomnia...Farscape was the only thing to get me through those extremely long nights...<br /><br />Do yourself a favour; Watch the pilot and see what I mean...<br /><br />Farscape Comet',\n",
              " \"The film quickly gets to a major chase scene with ever increasing destruction. The first really bad thing is the guy hijacking Steven Seagal would have been beaten to pulp by Seagal's driving, but that probably would have ended the whole premise for the movie.<br /><br />It seems like they decided to make all kinds of changes in the movie plot, so just plan to enjoy the action, and do not expect a coherent plot. Turn any sense of logic you may have, it will reduce your chance of getting a headache.<br /><br />I does give me some hope that Steven Seagal is trying to move back towards the type of characters he portrayed in his more popular movies.\",\n",
              " 'Jane Austen would definitely approve of this one!<br /><br />Gwyneth Paltrow does an awesome job capturing the attitude of Emma. She is funny without being excessively silly, yet elegant. She puts on a very convincing British accent (not being British myself, maybe I\\'m not the best judge, but she fooled me...she was also excellent in \"Sliding Doors\"...I sometimes forget she\\'s American ~!). <br /><br />Also brilliant are Jeremy Northam and Sophie Thompson and Phyllida Law (Emma Thompson\\'s sister and mother) as the Bates women. They nearly steal the show...and Ms. Law doesn\\'t even have any lines!<br /><br />Highly recommended.',\n",
              " \"Expectations were somewhat high for me when I went to see this movie, after all I thought Steve Carell could do no wrong coming off of great movies like Anchorman, The 40 Year-Old Virgin, and Little Miss Sunshine. Boy, was I wrong.<br /><br />I'll start with what is right with this movie: at certain points Steve Carell is allowed to be Steve Carell. There are a handful of moments in the film that made me laugh, and it's due almost entirely to him being given the wiggle-room to do his thing. He's an undoubtedly talented individual, and it's a shame that he signed on to what turned out to be, in my opinion, a total train-wreck.<br /><br />With that out of the way, I'll discuss what went horrifyingly wrong.<br /><br />The film begins with Dan Burns, a widower with three girls who is being considered for a nationally syndicated advice column. He prepares his girls for a family reunion, where his extended relatives gather for some time with each other.<br /><br />The family is high atop the list of things that make this an awful movie. No family behaves like this. It's almost as if they've been transported from Pleasantville or Leave it to Beaver. They are a caricature of what we think a family is when we're 7. It reaches the point where they become obnoxious and simply frustrating. Touch football, crossword puzzle competitions, family bowling, and talent shows ARE NOT HOW ACTUAL PEOPLE BEHAVE. It's almost sickening.<br /><br />Another big flaw is the woman Carell is supposed to be falling for. Observing her in her first scene with Steve Carell is like watching a stroke victim trying to be rehabilitated. What I imagine is supposed to be unique and original in this woman comes off as mildly retarded.<br /><br />It makes me think that this movie is taking place on another planet. I left the theater wondering what I just saw. After thinking further, I don't think it was much.\"]"
            ]
          },
          "metadata": {},
          "execution_count": 23
        }
      ]
    },
    {
      "cell_type": "markdown",
      "source": [
        "Let's also print the first 5 labels."
      ],
      "metadata": {
        "id": "w013noEYUQSq"
      }
    },
    {
      "cell_type": "code",
      "source": [
        "IMDB_teY[:5]"
      ],
      "metadata": {
        "colab": {
          "base_uri": "https://localhost:8080/"
        },
        "outputId": "c17c4b9f-3e97-486b-f419-838a4c9ef703",
        "id": "OnWQtVtDUQSq"
      },
      "execution_count": null,
      "outputs": [
        {
          "output_type": "execute_result",
          "data": {
            "text/plain": [
              "array([1, 1, 0, 1, 0])"
            ]
          },
          "metadata": {},
          "execution_count": 24
        }
      ]
    },
    {
      "cell_type": "markdown",
      "source": [
        "### Reddit"
      ],
      "metadata": {
        "id": "x7WQ5liGURII"
      }
    },
    {
      "cell_type": "code",
      "source": [
        "Reddit_train_dir = 'Reddit/Reddit_train.csv'\n",
        "Reddit_val_dir = 'Reddit/Reddit_val.csv'\n",
        "Reddit_test_dir = 'Reddit/Reddit_test.csv'\n",
        "Reddit_trX, Reddit_vaX, Reddit_teX, Reddit_trY, Reddit_vaY, Reddit_teY = sst_binary('data/new_data',Reddit_train_dir, Reddit_val_dir, Reddit_test_dir)"
      ],
      "metadata": {
        "id": "Kyc65Gr1URIN"
      },
      "execution_count": null,
      "outputs": []
    },
    {
      "cell_type": "code",
      "source": [
        "# Display the length of train , test dataset\n",
        "print(\"Training entries: {}, test entries: {}\".format(len(Reddit_trX), len(Reddit_teX)))"
      ],
      "metadata": {
        "colab": {
          "base_uri": "https://localhost:8080/"
        },
        "outputId": "26010c66-2309-46b7-a7a6-5cdde5a4ab41",
        "id": "Fak3tINGURIN"
      },
      "execution_count": null,
      "outputs": [
        {
          "output_type": "stream",
          "name": "stdout",
          "text": [
            "Training entries: 16874, test entries: 2411\n"
          ]
        }
      ]
    },
    {
      "cell_type": "markdown",
      "source": [
        "Let's print first 5 examples."
      ],
      "metadata": {
        "id": "3WJK-VK8URIO"
      }
    },
    {
      "cell_type": "code",
      "source": [
        "Reddit_teX[:5]"
      ],
      "metadata": {
        "colab": {
          "base_uri": "https://localhost:8080/"
        },
        "outputId": "05476b70-a4c4-4829-f339-f7cbf9b7b398",
        "id": "P1iLGNJcURIO"
      },
      "execution_count": null,
      "outputs": [
        {
          "output_type": "execute_result",
          "data": {
            "text/plain": [
              "['mesas girl wtf',\n",
              " 'for the rich except vishesh samudaay there only one religion money',\n",
              " 'yogi the only deserving candidate for post baki sab bakwaas hain',\n",
              " 'expected fallout govt which has hindu nationalist roots don blame them the slightest from lynchings attacks free speech the divide has gotten deeper the same story there trump rise has given platform not just ignorant morons but left wing extremists too any political party which steeped much identity politics bound create such headlines',\n",
              " 'amartya sen says “ indian citizen don’ want modi has not done enough make minorities feel safe ” said being asked why did not want sen said “ could have first all been more secular and could have made the minority community feel more secure ” indian demographics are not uniformly distributed muslim and the rest hindu all over the country there are cities and towns where muslims and christians are majority very large minority yet come across even single town that integrated that where the two communities live together there are hindus who live muslim and christian majority townships who are very much minorities and they are not faring well all just sad and bewildering that economists the stature sen can not see the plight hindu minorities hindu majority country the word secular has been reduced slogan that now means being overly solicitous obscurantist elements the muslim leadership while ignoring the plight all other minorities the traditional sense the word what non secular thing has modi done has introduced madrassas hindu schooling has made some religious rules conduct for women forcing muslims wear some marker distinguish them from the rest the people has gone and interfered with the running their institutions had sen spent more time india would have known the answers these questions and also why secularism has become such hated word the majority indians don’ want situation where the minority feel insecure and could legitimately think that there was organised violence against them 2002 think that terrible record and don’ think indian prime minister indian citizen who has that kind record not narsimha rao was the home minister during the 1984 delhi riots which are better example state sponsored riots than any other indian history when least 3000 sikhs were murdered mob violence delhi alone home minister rao was directly responsible for ordering the delhi police delhi was union territory then stand aside the sikhs were murdered their neighborhoods when rao was elevated being the sen kept his counsel not bring the sikh riots justify the godhra riots but only point out the hypocrisy people using all their lungs scream about gujarat but are silent about all other incidents violence modi could have made the majority community feel that they are not maltreating the minority and going against the long indian tradition being tolerant indians have been tolerant things for far too long are tolerant sewage our drinking water poison our food rape our streets loot our leaders war and murder our neighbors have lost half our country and have been ethnically cleansed wherever are not majority are tired being tolerant and most all are tired interminable lectures well meaning academics how should run our affairs and what can and can not think please sen let']"
            ]
          },
          "metadata": {},
          "execution_count": 27
        }
      ]
    },
    {
      "cell_type": "markdown",
      "source": [
        "Let's also print the first 5 labels."
      ],
      "metadata": {
        "id": "zmioaVq2URIO"
      }
    },
    {
      "cell_type": "code",
      "source": [
        "Reddit_teY[:5]"
      ],
      "metadata": {
        "colab": {
          "base_uri": "https://localhost:8080/"
        },
        "outputId": "82208b9b-09a3-48cb-88d7-6d5725a9c4a0",
        "id": "QhB5n4PLURIO"
      },
      "execution_count": null,
      "outputs": [
        {
          "output_type": "execute_result",
          "data": {
            "text/plain": [
              "array([0, 1, 1, 0, 1])"
            ]
          },
          "metadata": {},
          "execution_count": 28
        }
      ]
    },
    {
      "cell_type": "markdown",
      "source": [
        "### Hotel"
      ],
      "metadata": {
        "id": "svS5Vj0lUSGz"
      }
    },
    {
      "cell_type": "code",
      "source": [
        "Hotel_train_dir = 'Hotel/Hotel_train.csv'\n",
        "Hotel_val_dir = 'Hotel/Hotel_val.csv'\n",
        "Hotel_test_dir = 'Hotel/Hotel_test.csv'\n",
        "Hotel_trX, Hotel_vaX, Hotel_teX, Hotel_trY, Hotel_vaY, Hotel_teY = sst_binary('data/new_data',Hotel_train_dir, Hotel_val_dir, Hotel_test_dir)"
      ],
      "metadata": {
        "id": "TtlEnT5uUSG4"
      },
      "execution_count": null,
      "outputs": []
    },
    {
      "cell_type": "code",
      "source": [
        "# Display the length of train , test dataset\n",
        "print(\"Training entries: {}, test entries: {}\".format(len(Hotel_trX), len(Hotel_teX)))"
      ],
      "metadata": {
        "colab": {
          "base_uri": "https://localhost:8080/"
        },
        "outputId": "4e12f86b-e8da-472f-e3c1-647305037761",
        "id": "HDsVeuoRUSG5"
      },
      "execution_count": null,
      "outputs": [
        {
          "output_type": "stream",
          "name": "stdout",
          "text": [
            "Training entries: 6999, test entries: 1000\n"
          ]
        }
      ]
    },
    {
      "cell_type": "markdown",
      "source": [
        "Let's print first 5 examples."
      ],
      "metadata": {
        "id": "xCWjP5_DUSG5"
      }
    },
    {
      "cell_type": "code",
      "source": [
        "Hotel_teX[:5]"
      ],
      "metadata": {
        "colab": {
          "base_uri": "https://localhost:8080/"
        },
        "outputId": "1837246f-d27a-4900-a0ae-635ad1f989cf",
        "id": "IWwvQWBnUSG5"
      },
      "execution_count": null,
      "outputs": [
        {
          "output_type": "execute_result",
          "data": {
            "text/plain": [
              "['Everything was Ok But not great Staff seemed to not want to be there',\n",
              " \"These little villas are surprisingly clean for the price. I liked that there was no carpet in our villa (Room 113- queen bed) because there's nothing worse than stepping on old, icky motel carpets. The floor was wood laminate that looked newly installed. The bathroom was fine except it did have a shower stall, so the space was a bit... More\",\n",
              " \"A standard not fancy hotel that provides a little privacy and extra space at a good rate if you want an affordable suite. Decent pretty big breakfast buffet (could someone figure out that 15 of us don't digest dairy and really like having something like soy or almond milk). little pool only good for kids. Nice big lobby and lounge areas.Jesse L,Thank you for choosing to stay at Hyatt House during your recent trip to Seattle and for taking the time to share your experience on TripAdvisor. We value the feedback from our guests and are always striving to improve our guests stay. Please let us know when you return as wed love to welcome you back as our guest.Sarah Junge\",\n",
              " 'The Red Lion is owned by the same corporation that owns the Vineyard Inn, also in McMinnville. The Red Lion is a perfectly adequate hotel. The rooms are clean and the housekeeping adequate. The breakfast offered is OK--not gourmet, but gets you going in the morning. The Red Lion is a little quieter than the Vineyard Inn, since it is... More',\n",
              " 'What a find! We two couples were looking for an overnight stay in Temecula and hit the jackpot. Met Chef Dean early in the day and he made wonderful recommendations for a place to have lunch and a number of wineries to visit. In the afternoon we enjoyed drinks on the patio and then went to dinner at an Afghani... More']"
            ]
          },
          "metadata": {},
          "execution_count": 31
        }
      ]
    },
    {
      "cell_type": "markdown",
      "source": [
        "Let's also print the first 5 labels."
      ],
      "metadata": {
        "id": "i5oik1-NUSG5"
      }
    },
    {
      "cell_type": "code",
      "source": [
        "Hotel_teY[:5]"
      ],
      "metadata": {
        "colab": {
          "base_uri": "https://localhost:8080/"
        },
        "outputId": "9b9b4d32-96d9-49a0-b69f-b8dd29ba3bbb",
        "id": "DGA9KadKUSG5"
      },
      "execution_count": null,
      "outputs": [
        {
          "output_type": "execute_result",
          "data": {
            "text/plain": [
              "array([1, 1, 1, 1, 1])"
            ]
          },
          "metadata": {},
          "execution_count": 32
        }
      ]
    },
    {
      "cell_type": "markdown",
      "source": [
        "## 5. Defining and Fitting the Classifiers"
      ],
      "metadata": {
        "id": "MUm2U4dcJFJY"
      }
    },
    {
      "cell_type": "markdown",
      "source": [
        "We reproduce the original code with a Logistic Regression on top of the text vectorizer model to classify the sentiment"
      ],
      "metadata": {
        "id": "L5xgMn_8Mngm"
      }
    },
    {
      "cell_type": "markdown",
      "source": [
        "### SST"
      ],
      "metadata": {
        "id": "KA-lxaTuG9dx"
      }
    },
    {
      "cell_type": "code",
      "source": [
        "SST_trXt = model.transform(SST_trX)\n",
        "SST_vaXt = model.transform(SST_vaX)\n",
        "SST_teXt = model.transform(SST_teX)\n",
        "\n",
        "# Build models with L1 and L2 regularization\n",
        "SST_full_rep_acc_l1, SST_c_l1, SST_nnotzero_l1, SST_model_l1 = train_with_reg_cv(SST_trXt, SST_trY, SST_vaXt, SST_vaY, SST_teXt, SST_teY, penalty='l1')\n",
        "SST_full_rep_acc_l2, SST_c_l2, SST_nnotzero_l2, SST_model_l2 = train_with_reg_cv(SST_trXt, SST_trY, SST_vaXt, SST_vaY, SST_teXt, SST_teY, penalty='l2')\n",
        "\n",
        "print('L1 Regularization Results:')\n",
        "print('%05.2f test accuracy' % SST_full_rep_acc_l1)\n",
        "print('%05.2f regularization coef' % SST_c_l1)\n",
        "print('%05d features used' % SST_nnotzero_l1)\n",
        "\n",
        "print('L2 Regularization Results:')\n",
        "print('%05.2f test accuracy' % SST_full_rep_acc_l2)\n",
        "print('%05.2f regularization coef' % SST_c_l2)\n",
        "print('%05d features used' % SST_nnotzero_l2)"
      ],
      "metadata": {
        "colab": {
          "base_uri": "https://localhost:8080/"
        },
        "id": "hwQA_2Wftv7L",
        "outputId": "32dddd2e-4093-477f-b924-10d4fb2f632d"
      },
      "execution_count": null,
      "outputs": [
        {
          "output_type": "stream",
          "name": "stdout",
          "text": [
            "14.494 seconds to transform 6920 examples\n",
            "1.920 seconds to transform 872 examples\n",
            "3.836 seconds to transform 1821 examples\n",
            "L1 Regularization Results:\n",
            "91.76 test accuracy\n",
            "00.25 regularization coef\n",
            "00141 features used\n",
            "L2 Regularization Results:\n",
            "91.76 test accuracy\n",
            "00.03 regularization coef\n",
            "04096 features used\n"
          ]
        }
      ]
    },
    {
      "cell_type": "markdown",
      "source": [
        "### Amazon"
      ],
      "metadata": {
        "id": "wKMYSA_YHML6"
      }
    },
    {
      "cell_type": "code",
      "source": [
        "Amazon_trXt = model.transform(Amazon_trX)\n",
        "Amazon_vaXt = model.transform(Amazon_vaX)\n",
        "Amazon_teXt = model.transform(Amazon_teX)\n",
        "# classification\n",
        "# Build models with L1 and L2 regularization\n",
        "Amazon_full_rep_acc_l1, Amazon_c_l1, Amazon_nnotzero_l1, Amazon_model_l1 = train_with_reg_cv(Amazon_trXt, Amazon_trY, Amazon_vaXt, Amazon_vaY, Amazon_teXt, Amazon_teY, penalty='l1')\n",
        "Amazon_full_rep_acc_l2, Amazon_c_l2, Amazon_nnotzero_l2, Amazon_model_l2 = train_with_reg_cv(Amazon_trXt, Amazon_trY, Amazon_vaXt, Amazon_vaY, Amazon_teXt, Amazon_teY, penalty='l2')\n",
        "\n",
        "print('L1 Regularization Results:')\n",
        "print('%05.2f test accuracy' % Amazon_full_rep_acc_l1)\n",
        "print('%05.2f regularization coef' % Amazon_c_l1)\n",
        "print('%05d features used' % Amazon_nnotzero_l1)\n",
        "\n",
        "print('L2 Regularization Results:')\n",
        "print('%05.2f test accuracy' % Amazon_full_rep_acc_l2)\n",
        "print('%05.2f regularization coef' % Amazon_c_l2)\n",
        "print('%05d features used' % Amazon_nnotzero_l2)"
      ],
      "metadata": {
        "colab": {
          "base_uri": "https://localhost:8080/"
        },
        "outputId": "345e04f9-fe68-4a38-8fa7-73cf7f94919b",
        "id": "bvRpcEobHML7"
      },
      "execution_count": null,
      "outputs": [
        {
          "output_type": "stream",
          "name": "stdout",
          "text": [
            "77.437 seconds to transform 24238 examples\n",
            "10.499 seconds to transform 3462 examples\n",
            "22.667 seconds to transform 6926 examples\n",
            "L1 Regularization Results:\n",
            "95.24 test accuracy\n",
            "00.12 regularization coef\n",
            "00171 features used\n",
            "L2 Regularization Results:\n",
            "95.05 test accuracy\n",
            "00.03 regularization coef\n",
            "04096 features used\n"
          ]
        }
      ]
    },
    {
      "cell_type": "markdown",
      "source": [
        "### Yelp"
      ],
      "metadata": {
        "id": "BWp4gNtSX1vJ"
      }
    },
    {
      "cell_type": "code",
      "source": [
        "New_Yelp_trXt = model.transform(New_Yelp_trX)\n",
        "New_Yelp_vaXt = model.transform(New_Yelp_vaX)\n",
        "New_Yelp_teXt = model.transform(New_Yelp_teX)\n",
        "# Build models with L1 and L2 regularization\n",
        "New_Yelp_full_rep_acc_l1, New_Yelp_c_l1, New_Yelp_nnotzero_l1, New_Yelp_model_l1 = train_with_reg_cv(New_Yelp_trXt, New_Yelp_trY, New_Yelp_vaXt, New_Yelp_vaY, New_Yelp_teXt, New_Yelp_teY, penalty='l1')\n",
        "New_Yelp_full_rep_acc_l2, New_Yelp_c_l2, New_Yelp_nnotzero_l2, New_Yelp_model_l2 = train_with_reg_cv(New_Yelp_trXt, New_Yelp_trY, New_Yelp_vaXt, New_Yelp_vaY, New_Yelp_teXt, New_Yelp_teY, penalty='l2')\n",
        "\n",
        "print('L1 Regularization Results:')\n",
        "print('%05.2f test accuracy' % New_Yelp_full_rep_acc_l1)\n",
        "print('%05.2f regularization coef' % New_Yelp_c_l1)\n",
        "print('%05d features used' % New_Yelp_nnotzero_l1)\n",
        "\n",
        "print('L2 Regularization Results:')\n",
        "print('%05.2f test accuracy' % New_Yelp_full_rep_acc_l2)\n",
        "print('%05.2f regularization coef' % New_Yelp_c_l2)\n",
        "print('%05d features used' % New_Yelp_nnotzero_l2)"
      ],
      "metadata": {
        "id": "nRLmnsW4X1vP",
        "colab": {
          "base_uri": "https://localhost:8080/"
        },
        "outputId": "f70fe770-ecef-440a-cb09-2feb298b0900"
      },
      "execution_count": null,
      "outputs": [
        {
          "output_type": "stream",
          "name": "stdout",
          "text": [
            "327.096 seconds to transform 28000 examples\n",
            "95.645 seconds to transform 8000 examples\n",
            "49.614 seconds to transform 4000 examples\n",
            "L1 Regularization Results:\n",
            "94.40 test accuracy\n",
            "00.25 regularization coef\n",
            "00486 features used\n",
            "L2 Regularization Results:\n",
            "94.55 test accuracy\n",
            "00.03 regularization coef\n",
            "04096 features used\n"
          ]
        }
      ]
    },
    {
      "cell_type": "markdown",
      "source": [
        "### IMDB"
      ],
      "metadata": {
        "id": "SF2DbGHFX2Te"
      }
    },
    {
      "cell_type": "code",
      "source": [
        "IMDB_trXt = model.transform(IMDB_trX)\n",
        "IMDB_vaXt = model.transform(IMDB_vaX)\n",
        "IMDB_teXt = model.transform(IMDB_teX)\n",
        "# Build models with L1 and L2 regularization\n",
        "IMDB_full_rep_acc_l1, IMDB_c_l1, IMDB_nnotzero_l1, IMDB_model_l1 = train_with_reg_cv(IMDB_trXt, IMDB_trY, IMDB_vaXt, IMDB_vaY, IMDB_teXt, IMDB_teY, penalty='l1')\n",
        "IMDB_full_rep_acc_l2, IMDB_c_l2, IMDB_nnotzero_l2, IMDB_model_l2 = train_with_reg_cv(IMDB_trXt, IMDB_trY, IMDB_vaXt, IMDB_vaY, IMDB_teXt, IMDB_teY, penalty='l2')\n",
        "\n",
        "print('L1 Regularization Results:')\n",
        "print('%05.2f test accuracy' % IMDB_full_rep_acc_l1)\n",
        "print('%05.2f regularization coef' % IMDB_c_l1)\n",
        "print('%05d features used' % IMDB_nnotzero_l1)\n",
        "\n",
        "print('L2 Regularization Results:')\n",
        "print('%05.2f test accuracy' % IMDB_full_rep_acc_l2)\n",
        "print('%05.2f regularization coef' % IMDB_c_l2)\n",
        "print('%05d features used' % IMDB_nnotzero_l2)"
      ],
      "metadata": {
        "id": "6ViVUxw7X2Tf",
        "colab": {
          "base_uri": "https://localhost:8080/"
        },
        "outputId": "caf4a976-9803-4b63-d332-1dbed25a09e3"
      },
      "execution_count": null,
      "outputs": [
        {
          "output_type": "stream",
          "name": "stdout",
          "text": [
            "730.308 seconds to transform 35000 examples\n",
            "212.392 seconds to transform 10000 examples\n",
            "106.305 seconds to transform 5000 examples\n",
            "L1 Regularization Results:\n",
            "92.32 test accuracy\n",
            "00.06 regularization coef\n",
            "00194 features used\n",
            "L2 Regularization Results:\n",
            "92.46 test accuracy\n",
            "00.03 regularization coef\n",
            "04096 features used\n"
          ]
        }
      ]
    },
    {
      "cell_type": "markdown",
      "source": [
        "### Reddit"
      ],
      "metadata": {
        "id": "3YsZUnrsX2mH"
      }
    },
    {
      "cell_type": "code",
      "source": [
        "Reddit_trXt = model.transform(Reddit_trX)\n",
        "Reddit_vaXt = model.transform(Reddit_vaX)\n",
        "Reddit_teXt = model.transform(Reddit_teX)\n",
        "# Build models with L1 and L2 regularization\n",
        "Reddit_full_rep_acc_l1, Reddit_c_l1, Reddit_nnotzero_l1, Reddit_model_l1 = train_with_reg_cv(Reddit_trXt, Reddit_trY, Reddit_vaXt, Reddit_vaY, Reddit_teXt, Reddit_teY, penalty='l1')\n",
        "Reddit_full_rep_acc_l2, Reddit_c_l2, Reddit_nnotzero_l2, Reddit_model_l2 = train_with_reg_cv(Reddit_trXt, Reddit_trY, Reddit_vaXt, Reddit_vaY, Reddit_teXt, Reddit_teY, penalty='l2')\n",
        "\n",
        "print('L1 Regularization Results:')\n",
        "print('%05.2f test accuracy' % Reddit_full_rep_acc_l1)\n",
        "print('%05.2f regularization coef' % Reddit_c_l1)\n",
        "print('%05d features used' % Reddit_nnotzero_l1)\n",
        "\n",
        "print('L2 Regularization Results:')\n",
        "print('%05.2f test accuracy' % Reddit_full_rep_acc_l2)\n",
        "print('%05.2f regularization coef' % Reddit_c_l2)\n",
        "print('%05d features used' % Reddit_nnotzero_l2)"
      ],
      "metadata": {
        "id": "wstmdKJoX2mI",
        "colab": {
          "base_uri": "https://localhost:8080/"
        },
        "outputId": "9620df3f-1cd4-4fa8-9c8a-a85eba01fb12"
      },
      "execution_count": null,
      "outputs": [
        {
          "output_type": "stream",
          "name": "stdout",
          "text": [
            "77.039 seconds to transform 16874 examples\n",
            "23.910 seconds to transform 4822 examples\n",
            "12.080 seconds to transform 2411 examples\n",
            "L1 Regularization Results:\n",
            "73.66 test accuracy\n",
            "00.06 regularization coef\n",
            "00406 features used\n",
            "L2 Regularization Results:\n",
            "73.41 test accuracy\n",
            "00.01 regularization coef\n",
            "04096 features used\n"
          ]
        }
      ]
    },
    {
      "cell_type": "markdown",
      "source": [
        "### Hotel"
      ],
      "metadata": {
        "id": "VD9k6liEX21L"
      }
    },
    {
      "cell_type": "code",
      "source": [
        "Hotel_trXt = model.transform(Hotel_trX)\n",
        "Hotel_vaXt = model.transform(Hotel_vaX)\n",
        "Hotel_teXt = model.transform(Hotel_teX)\n",
        "# Build models with L1 and L2 regularization\n",
        "Hotel_full_rep_acc_l1, Hotel_c_l1, Hotel_nnotzero_l1, Hotel_model_l1 = train_with_reg_cv(Hotel_trXt, Hotel_trY, Hotel_vaXt, Hotel_vaY, Hotel_teXt, Hotel_teY, penalty='l1')\n",
        "Hotel_full_rep_acc_l2, Hotel_c_l2, Hotel_nnotzero_l2, Hotel_model_l2 = train_with_reg_cv(Hotel_trXt, Hotel_trY, Hotel_vaXt, Hotel_vaY, Hotel_teXt, Hotel_teY, penalty='l2')\n",
        "\n",
        "print('L1 Regularization Results:')\n",
        "print('%05.2f test accuracy' % Hotel_full_rep_acc_l1)\n",
        "print('%05.2f regularization coef' % Hotel_c_l1)\n",
        "print('%05d features used' % Hotel_nnotzero_l1)\n",
        "\n",
        "print('L2 Regularization Results:')\n",
        "print('%05.2f test accuracy' % Hotel_full_rep_acc_l2)\n",
        "print('%05.2f regularization coef' % Hotel_c_l2)\n",
        "print('%05d features used' % Hotel_nnotzero_l2)"
      ],
      "metadata": {
        "id": "mjFwksaGX21L",
        "colab": {
          "base_uri": "https://localhost:8080/"
        },
        "outputId": "5588ab18-835b-4faa-d150-1e28b066f59c"
      },
      "execution_count": null,
      "outputs": [
        {
          "output_type": "stream",
          "name": "stdout",
          "text": [
            "40.984 seconds to transform 6999 examples\n",
            "13.899 seconds to transform 2000 examples\n",
            "8.217 seconds to transform 1000 examples\n",
            "L1 Regularization Results:\n",
            "92.10 test accuracy\n",
            "00.25 regularization coef\n",
            "00188 features used\n",
            "L2 Regularization Results:\n",
            "91.60 test accuracy\n",
            "00.03 regularization coef\n",
            "04096 features used\n"
          ]
        }
      ]
    },
    {
      "cell_type": "markdown",
      "source": [
        "## 6. Evaluation"
      ],
      "metadata": {
        "id": "TB4af7ETKGBB"
      }
    },
    {
      "cell_type": "markdown",
      "source": [
        "### Distribution of Results"
      ],
      "metadata": {
        "id": "4Kh9MdWZOm-q"
      }
    },
    {
      "cell_type": "code",
      "source": [
        "# Create a single figure with subplots\n",
        "fig, axes = plt.subplots(2, 3, figsize=(20, 12))\n",
        "column = 2388\n",
        "# Plot the histograms for SST_sentiment_unit\n",
        "SST_sentiment_unit = SST_trXt[:, column]\n",
        "axes[0,0].hist(SST_sentiment_unit[SST_trY == 0], bins=25, alpha=0.5, label='neg')\n",
        "axes[0,0].hist(SST_sentiment_unit[SST_trY == 1], bins=25, alpha=0.5, label='pos')\n",
        "axes[0,0].set_title('SST Sentiment Unit')\n",
        "axes[0,0].legend()\n",
        "\n",
        "# Plot the histograms for Amazon_sentiment_unit\n",
        "Amazon_sentiment_unit = Amazon_trXt[:, column]\n",
        "axes[0,1].hist(Amazon_sentiment_unit[Amazon_trY == 0], bins=25, alpha=0.5, label='neg')\n",
        "axes[0,1].hist(Amazon_sentiment_unit[Amazon_trY == 1], bins=25, alpha=0.5, label='pos')\n",
        "axes[0,1].set_title('Amazon Sentiment Unit')\n",
        "axes[0,1].legend()\n",
        "\n",
        "# Plot the histograms for New_Yelp_sentiment_unit\n",
        "New_Yelp_sentiment_unit = New_Yelp_trXt[:, column]\n",
        "axes[0,2].hist(New_Yelp_sentiment_unit[New_Yelp_trY == 0], bins=25, alpha=0.5, label='neg')\n",
        "axes[0,2].hist(New_Yelp_sentiment_unit[New_Yelp_trY == 1], bins=25, alpha=0.5, label='pos')\n",
        "axes[0,2].set_title('New Datasets Yelp Sentiment Unit')\n",
        "axes[0,2].legend()\n",
        "\n",
        "# Plot the histograms for IMDB_sentiment_unit\n",
        "IMDB_sentiment_unit = IMDB_trXt[:, column]\n",
        "axes[1,0].hist(IMDB_sentiment_unit[IMDB_trY == 0], bins=25, alpha=0.5, label='neg')\n",
        "axes[1,0].hist(IMDB_sentiment_unit[IMDB_trY == 1], bins=25, alpha=0.5, label='pos')\n",
        "axes[1,0].set_title('New Datasets IMDB Sentiment Unit')\n",
        "axes[1,0].legend()\n",
        "\n",
        "# Plot the histograms for Reddit_sentiment_unit\n",
        "Reddit_sentiment_unit = Reddit_trXt[:, column]\n",
        "axes[1,1].hist(Reddit_sentiment_unit[Reddit_trY == 0], bins=25, alpha=0.5, label='neg')\n",
        "axes[1,1].hist(Reddit_sentiment_unit[Reddit_trY == 1], bins=25, alpha=0.5, label='pos')\n",
        "axes[1,1].set_title('New Datasets Reddit Sentiment Unit')\n",
        "axes[1,1].legend()\n",
        "\n",
        "# Plot the histograms for Hotel_sentiment_unit\n",
        "Hotel_sentiment_unit = Hotel_trXt[:, column]\n",
        "axes[1,2].hist(Hotel_sentiment_unit[Hotel_trY == 0], bins=25, alpha=0.5, label='neg')\n",
        "axes[1,2].hist(Hotel_sentiment_unit[Hotel_trY == 1], bins=25, alpha=0.5, label='pos')\n",
        "axes[1,2].set_title('New Datasets Hotel Sentiment Unit')\n",
        "axes[1,2].legend()\n",
        "\n",
        "# Adjust layout for better spacing\n",
        "plt.tight_layout()\n",
        "\n",
        "# Show the combined plot\n",
        "plt.show()"
      ],
      "metadata": {
        "id": "EbIcgbVnHML8",
        "colab": {
          "base_uri": "https://localhost:8080/",
          "height": 911
        },
        "outputId": "ea638f9e-d105-4196-e23e-c5ab95fb175f"
      },
      "execution_count": null,
      "outputs": [
        {
          "output_type": "display_data",
          "data": {
            "text/plain": [
              "<Figure size 2000x1200 with 6 Axes>"
            ],
            "image/png": "[encoded data removed]"
          },
          "metadata": {}
        }
      ]
    },
    {
      "cell_type": "markdown",
      "source": [
        "### Accuracy and F1 score"
      ],
      "metadata": {
        "id": "fdr3bfPgNzBW"
      }
    },
    {
      "cell_type": "code",
      "source": [
        "# Calculate accuracy and F1 score for SST dataset\n",
        "SST_accuracy = accuracy_score(SST_teY, SST_model_l1.predict(SST_teXt))\n",
        "SST_f1 = f1_score(SST_teY, SST_model_l1.predict(SST_teXt))\n",
        "\n",
        "# Calculate accuracy and F1 score for Amazon dataset\n",
        "Amazon_accuracy = accuracy_score(Amazon_teY, Amazon_model_l1.predict(Amazon_teXt))\n",
        "Amazon_f1 = f1_score(Amazon_teY, Amazon_model_l1.predict(Amazon_teXt))\n",
        "\n",
        "# Calculate accuracy and F1 score for New_Yelp dataset\n",
        "New_Yelp_accuracy = accuracy_score(New_Yelp_teY, New_Yelp_model_l1.predict(New_Yelp_teXt))\n",
        "New_Yelp_f1 = f1_score(New_Yelp_teY, New_Yelp_model_l1.predict(New_Yelp_teXt))\n",
        "\n",
        "# Calculate accuracy and F1 score for IMDB dataset\n",
        "IMDB_accuracy = accuracy_score(IMDB_teY, IMDB_model_l1.predict(IMDB_teXt))\n",
        "IMDB_f1 = f1_score(IMDB_teY, IMDB_model_l1.predict(IMDB_teXt))\n",
        "\n",
        "# Calculate accuracy and F1 score for Reddit dataset\n",
        "Reddit_accuracy = accuracy_score(Reddit_teY, Reddit_model_l1.predict(Reddit_teXt))\n",
        "Reddit_f1 = f1_score(Reddit_teY, Reddit_model_l1.predict(Reddit_teXt))\n",
        "\n",
        "# Calculate accuracy and F1 score for Hotel dataset\n",
        "Hotel_accuracy = accuracy_score(Hotel_teY, Hotel_model_l1.predict(Hotel_teXt))\n",
        "Hotel_f1 = f1_score(Hotel_teY, Hotel_model_l1.predict(Hotel_teXt))\n",
        "\n",
        "# Print accuracy and F1 score for all datasets\n",
        "print(f'''\n",
        "Accuracy: SST data - {round(SST_accuracy*100, 2)}%\n",
        "F1 Score: SST data - {round(SST_f1*100, 2)}%\n",
        "\n",
        "Accuracy: Amazon data - {round(Amazon_accuracy*100, 2)}%\n",
        "F1 Score: Amazon data - {round(Amazon_f1*100, 2)}%\n",
        "\n",
        "Accuracy: Yelp data - {round(New_Yelp_accuracy*100, 2)}%\n",
        "F1 Score: Yelp data - {round(New_Yelp_f1*100, 2)}%\n",
        "\n",
        "Accuracy: IMDB data - {round(IMDB_accuracy*100, 2)}%\n",
        "F1 Score: IMDB data - {round(IMDB_f1*100, 2)}%\n",
        "\n",
        "Accuracy: Reddit data - {round(Reddit_accuracy*100, 2)}%\n",
        "F1 Score: Reddit data - {round(Reddit_f1*100, 2)}%\n",
        "\n",
        "Accuracy: Hotel data - {round(Hotel_accuracy*100, 2)}%\n",
        "F1 Score: Hotel data - {round(Hotel_f1*100, 2)}%\n",
        "''')"
      ],
      "metadata": {
        "id": "kRpXC5eCQWGl",
        "colab": {
          "base_uri": "https://localhost:8080/"
        },
        "outputId": "c907959d-7579-48ee-dc33-a967bfd0d402"
      },
      "execution_count": null,
      "outputs": [
        {
          "output_type": "stream",
          "name": "stdout",
          "text": [
            "\n",
            "Accuracy: SST data - 91.76%\n",
            "F1 Score: SST data - 91.87%\n",
            "\n",
            "Accuracy: Amazon data - 95.24%\n",
            "F1 Score: Amazon data - 97.48%\n",
            "\n",
            "Accuracy: Yelp data - 94.4%\n",
            "F1 Score: Yelp data - 94.37%\n",
            "\n",
            "Accuracy: IMDB data - 92.32%\n",
            "F1 Score: IMDB data - 92.42%\n",
            "\n",
            "Accuracy: Reddit data - 73.66%\n",
            "F1 Score: Reddit data - 81.41%\n",
            "\n",
            "Accuracy: Hotel data - 92.1%\n",
            "F1 Score: Hotel data - 95.62%\n",
            "\n"
          ]
        }
      ]
    },
    {
      "cell_type": "markdown",
      "source": [
        "### Classification matrix"
      ],
      "metadata": {
        "id": "mxHol7jsOI7S"
      }
    },
    {
      "cell_type": "code",
      "source": [
        "# Calculate and print classification report for SST dataset\n",
        "SST_report = classification_report(SST_teY, SST_model_l1.predict(SST_teXt))\n",
        "print(\"Classification Report - SST data:\")\n",
        "print(SST_report)\n",
        "\n",
        "# Calculate and print classification report for Amazon dataset\n",
        "Amazon_report = classification_report(Amazon_teY, Amazon_model_l1.predict(Amazon_teXt))\n",
        "print(\"Classification Report - Amazon data:\")\n",
        "print(Amazon_report)\n",
        "\n",
        "# Calculate and print classification report for New_Yelp dataset\n",
        "New_Yelp_report = classification_report(New_Yelp_teY, New_Yelp_model_l1.predict(New_Yelp_teXt))\n",
        "print(\"Classification Report - Yelp data:\")\n",
        "print(New_Yelp_report)\n",
        "\n",
        "# Calculate and print classification report for IMDB dataset\n",
        "IMDB_report = classification_report(IMDB_teY, IMDB_model_l1.predict(IMDB_teXt))\n",
        "print(\"Classification Report - IMDB data:\")\n",
        "print(IMDB_report)\n",
        "\n",
        "# Calculate and print classification report for Reddit dataset\n",
        "Reddit_report = classification_report(Reddit_teY, Reddit_model_l1.predict(Reddit_teXt))\n",
        "print(\"Classification Report - Reddit data:\")\n",
        "print(Reddit_report)\n",
        "\n",
        "# Calculate and print classification report for Hotel dataset\n",
        "Hotel_report = classification_report(Hotel_teY, Hotel_model_l1.predict(Hotel_teXt))\n",
        "print(\"Classification Report - Hotel data:\")\n",
        "print(Hotel_report)"
      ],
      "metadata": {
        "id": "YjtiJBBHRf8e",
        "colab": {
          "base_uri": "https://localhost:8080/"
        },
        "outputId": "efed7c3d-cace-4a2c-b6b8-2ab62d3684f8"
      },
      "execution_count": null,
      "outputs": [
        {
          "output_type": "stream",
          "name": "stdout",
          "text": [
            "Classification Report - SST data:\n",
            "              precision    recall  f1-score   support\n",
            "\n",
            "           0       0.93      0.90      0.92       912\n",
            "           1       0.91      0.93      0.92       909\n",
            "\n",
            "    accuracy                           0.92      1821\n",
            "   macro avg       0.92      0.92      0.92      1821\n",
            "weighted avg       0.92      0.92      0.92      1821\n",
            "\n",
            "Classification Report - Amazon data:\n",
            "              precision    recall  f1-score   support\n",
            "\n",
            "           0       0.75      0.47      0.58       481\n",
            "           1       0.96      0.99      0.97      6445\n",
            "\n",
            "    accuracy                           0.95      6926\n",
            "   macro avg       0.86      0.73      0.78      6926\n",
            "weighted avg       0.95      0.95      0.95      6926\n",
            "\n",
            "Classification Report - Yelp data:\n",
            "              precision    recall  f1-score   support\n",
            "\n",
            "           0       0.94      0.94      0.94      2011\n",
            "           1       0.94      0.94      0.94      1989\n",
            "\n",
            "    accuracy                           0.94      4000\n",
            "   macro avg       0.94      0.94      0.94      4000\n",
            "weighted avg       0.94      0.94      0.94      4000\n",
            "\n",
            "Classification Report - IMDB data:\n",
            "              precision    recall  f1-score   support\n",
            "\n",
            "           0       0.93      0.92      0.92      2481\n",
            "           1       0.92      0.93      0.92      2519\n",
            "\n",
            "    accuracy                           0.92      5000\n",
            "   macro avg       0.92      0.92      0.92      5000\n",
            "weighted avg       0.92      0.92      0.92      5000\n",
            "\n",
            "Classification Report - Reddit data:\n",
            "              precision    recall  f1-score   support\n",
            "\n",
            "           0       0.67      0.46      0.55       832\n",
            "           1       0.76      0.88      0.81      1579\n",
            "\n",
            "    accuracy                           0.74      2411\n",
            "   macro avg       0.71      0.67      0.68      2411\n",
            "weighted avg       0.73      0.74      0.72      2411\n",
            "\n",
            "Classification Report - Hotel data:\n",
            "              precision    recall  f1-score   support\n",
            "\n",
            "           0       0.76      0.50      0.60       119\n",
            "           1       0.93      0.98      0.96       881\n",
            "\n",
            "    accuracy                           0.92      1000\n",
            "   macro avg       0.85      0.74      0.78      1000\n",
            "weighted avg       0.91      0.92      0.91      1000\n",
            "\n"
          ]
        }
      ]
    },
    {
      "cell_type": "markdown",
      "source": [
        "### ROC curve"
      ],
      "metadata": {
        "id": "Y19-a2skOXbZ"
      }
    },
    {
      "cell_type": "code",
      "source": [
        "# Calculate and plot ROC curve for SST dataset\n",
        "SST_fpr, SST_tpr, _ = roc_curve(SST_teY, SST_model_l1.predict_proba(SST_teXt)[:, 1])\n",
        "SST_auc = auc(SST_fpr, SST_tpr)\n",
        "\n",
        "# Calculate and plot ROC curve for Amazon dataset\n",
        "Amazon_fpr, Amazon_tpr, _ = roc_curve(Amazon_teY, Amazon_model_l1.predict_proba(Amazon_teXt)[:, 1])\n",
        "Amazon_auc = auc(Amazon_fpr, Amazon_tpr)\n",
        "\n",
        "# Calculate and plot ROC curve for New_Yelp dataset\n",
        "New_Yelp_fpr, New_Yelp_tpr, _ = roc_curve(New_Yelp_teY, New_Yelp_model_l1.predict_proba(New_Yelp_teXt)[:, 1])\n",
        "New_Yelp_auc = auc(New_Yelp_fpr, New_Yelp_tpr)\n",
        "\n",
        "# Calculate and plot ROC curve for IMDB dataset\n",
        "IMDB_fpr, IMDB_tpr, _ = roc_curve(IMDB_teY, IMDB_model_l1.predict_proba(IMDB_teXt)[:, 1])\n",
        "IMDB_auc = auc(IMDB_fpr, IMDB_tpr)\n",
        "\n",
        "# Calculate and plot ROC curve for Reddit dataset\n",
        "Reddit_fpr, Reddit_tpr, _ = roc_curve(Reddit_teY, Reddit_model_l1.predict_proba(Reddit_teXt)[:, 1])\n",
        "Reddit_auc = auc(Reddit_fpr, Reddit_tpr)\n",
        "\n",
        "# Calculate and plot ROC curve for Hotel dataset\n",
        "Hotel_fpr, Hotel_tpr, _ = roc_curve(Hotel_teY, Hotel_model_l1.predict_proba(Hotel_teXt)[:, 1])\n",
        "Hotel_auc = auc(Hotel_fpr, Hotel_tpr)\n",
        "\n",
        "# Create subplots\n",
        "fig, axes = plt.subplots(2, 3, figsize=(20, 12))\n",
        "\n",
        "# Plot ROC curve for SST dataset\n",
        "axes[0,0].plot(SST_fpr, SST_tpr, color='darkorange', lw=2, label='SST ROC curve (area = {:.2f})'.format(SST_auc))\n",
        "axes[0,0].plot([0, 1], [0, 1], color='navy', lw=2, linestyle='--')\n",
        "axes[0,0].set_xlim([0.0, 1.0])\n",
        "axes[0,0].set_ylim([0.0, 1.05])\n",
        "axes[0,0].set_xlabel('False Positive Rate')\n",
        "axes[0,0].set_ylabel('True Positive Rate')\n",
        "axes[0,0].set_title('SST ROC Curve')\n",
        "axes[0,0].legend(loc=\"lower right\")\n",
        "\n",
        "# Plot ROC curve for Amazon dataset\n",
        "axes[0,1].plot(Amazon_fpr, Amazon_tpr, color='blue', lw=2, label='Amazon ROC curve (area = {:.2f})'.format(Amazon_auc))\n",
        "axes[0,1].plot([0, 1], [0, 1], color='navy', lw=2, linestyle='--')\n",
        "axes[0,1].set_xlim([0.0, 1.0])\n",
        "axes[0,1].set_ylim([0.0, 1.05])\n",
        "axes[0,1].set_xlabel('False Positive Rate')\n",
        "axes[0,1].set_ylabel('True Positive Rate')\n",
        "axes[0,1].set_title('Amazon ROC Curve')\n",
        "axes[0,1].legend(loc=\"lower right\")\n",
        "\n",
        "# Plot ROC curve for New_Yelp dataset\n",
        "axes[0,2].plot(New_Yelp_fpr, New_Yelp_tpr, color='green', lw=2, label='New_Yelp ROC curve (area = {:.2f})'.format(New_Yelp_auc))\n",
        "axes[0,2].plot([0, 1], [0, 1], color='navy', lw=2, linestyle='--')\n",
        "axes[0,2].set_xlim([0.0, 1.0])\n",
        "axes[0,2].set_ylim([0.0, 1.05])\n",
        "axes[0,2].set_xlabel('False Positive Rate')\n",
        "axes[0,2].set_ylabel('True Positive Rate')\n",
        "axes[0,2].set_title('Yelp ROC Curve')\n",
        "axes[0,2].legend(loc=\"lower right\")\n",
        "\n",
        "# Plot ROC curve for IMDB dataset\n",
        "axes[1,0].plot(IMDB_fpr, IMDB_tpr, color='green', lw=2, label='IMDB ROC curve (area = {:.2f})'.format(IMDB_auc))\n",
        "axes[1,0].plot([0, 1], [0, 1], color='navy', lw=2, linestyle='--')\n",
        "axes[1,0].set_xlim([0.0, 1.0])\n",
        "axes[1,0].set_ylim([0.0, 1.05])\n",
        "axes[1,0].set_xlabel('False Positive Rate')\n",
        "axes[1,0].set_ylabel('True Positive Rate')\n",
        "axes[1,0].set_title('IMDB ROC Curve')\n",
        "axes[1,0].legend(loc=\"lower right\")\n",
        "\n",
        "# Plot ROC curve for Reddit dataset\n",
        "axes[1,1].plot(Reddit_fpr, Reddit_tpr, color='green', lw=2, label='Reddit ROC curve (area = {:.2f})'.format(Reddit_auc))\n",
        "axes[1,1].plot([0, 1], [0, 1], color='navy', lw=2, linestyle='--')\n",
        "axes[1,1].set_xlim([0.0, 1.0])\n",
        "axes[1,1].set_ylim([0.0, 1.05])\n",
        "axes[1,1].set_xlabel('False Positive Rate')\n",
        "axes[1,1].set_ylabel('True Positive Rate')\n",
        "axes[1,1].set_title('Reddit ROC Curve')\n",
        "axes[1,1].legend(loc=\"lower right\")\n",
        "\n",
        "# Plot ROC curve for Hotel dataset\n",
        "axes[1,2].plot(Hotel_fpr, Hotel_tpr, color='green', lw=2, label='Hotel ROC curve (area = {:.2f})'.format(Hotel_auc))\n",
        "axes[1,2].plot([0, 1], [0, 1], color='navy', lw=2, linestyle='--')\n",
        "axes[1,2].set_xlim([0.0, 1.0])\n",
        "axes[1,2].set_ylim([0.0, 1.05])\n",
        "axes[1,2].set_xlabel('False Positive Rate')\n",
        "axes[1,2].set_ylabel('True Positive Rate')\n",
        "axes[1,2].set_title('Hotel ROC Curve')\n",
        "axes[1,2].legend(loc=\"lower right\")\n",
        "\n",
        "plt.show()"
      ],
      "metadata": {
        "id": "sACBGZQQuwn1",
        "colab": {
          "base_uri": "https://localhost:8080/",
          "height": 943
        },
        "outputId": "005e2494-0342-4755-fabf-38f6196ea964"
      },
      "execution_count": null,
      "outputs": [
        {
          "output_type": "display_data",
          "data": {
            "text/plain": [
              "<Figure size 2000x1200 with 6 Axes>"
            ],
            "image/png": "[encoded data removed]"
          },
          "metadata": {}
        }
      ]
    }
  ]
}